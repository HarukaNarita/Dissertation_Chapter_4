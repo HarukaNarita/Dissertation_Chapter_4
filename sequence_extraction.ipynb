{
 "cells": [
  {
   "cell_type": "code",
   "execution_count": 142,
   "metadata": {},
   "outputs": [],
   "source": [
    "import numpy as np\n",
    "import pandas as pd\n",
    "import matplotlib.pyplot as plt\n",
    "from tqdm import tqdm\n",
    "tqdm.pandas()"
   ]
  },
  {
   "cell_type": "code",
   "execution_count": 27,
   "metadata": {},
   "outputs": [],
   "source": [
    "node_columns = [\n",
    "    \"tax_id\",\n",
    "    \"parent tax_id\",\n",
    "    \"rank\",\n",
    "    \"embl code\",\n",
    "    \"division id\",\n",
    "    \"inherited div flag\",\n",
    "    \"genetic code id\",\n",
    "    \"inherited GC  flag\",\n",
    "    \"mitochondrial genetic code id\",\n",
    "    \"inherited MGC flag\",\n",
    "    \"GenBank hidden flag\",\n",
    "    \"hidden subtree root flag\",\n",
    "    \"comments\"\n",
    "]"
   ]
  },
  {
   "cell_type": "code",
   "execution_count": 31,
   "metadata": {},
   "outputs": [],
   "source": [
    "name_columns = [\n",
    "    \"tax_id\",\n",
    "\t\"name_txt\",\n",
    "\t\"unique name\",\n",
    "\t\"name class\"  \n",
    "    ]"
   ]
  },
  {
   "cell_type": "code",
   "execution_count": 158,
   "metadata": {},
   "outputs": [
    {
     "name": "stderr",
     "output_type": "stream",
     "text": [
      "/Users/siomi19/opt/anaconda3/lib/python3.9/site-packages/numpy/lib/arraysetops.py:583: FutureWarning: elementwise comparison failed; returning scalar instead, but in the future will perform elementwise comparison\n",
      "  mask |= (ar1 == a)\n",
      "/Users/siomi19/.local/lib/python3.9/site-packages/IPython/core/interactiveshell.py:3398: DtypeWarning: Columns (24) have mixed types.Specify dtype option on import or set low_memory=False.\n",
      "  exec(code_obj, self.user_global_ns, self.user_ns)\n"
     ]
    }
   ],
   "source": [
    "df_name = pd.read_csv(\n",
    "    \"/Users/siomi19/Downloads/taxdump/names.dmp\",\n",
    "    sep=\"\\t\",\n",
    "    header=None,\n",
    "    index_col=0,\n",
    "    usecols=np.arange(0,7,2),\n",
    "    names=name_columns\n",
    ")\n",
    "df_name = df_name[df_name[\"name class\"]==\"scientific name\"]\n",
    "\n",
    "df_node = pd.read_csv(\n",
    "    \"/Users/siomi19/Downloads/taxdump/nodes.dmp\",\n",
    "    sep=\"\\t\",\n",
    "    header=None,\n",
    "    index_col=0,\n",
    "    usecols=np.arange(0,25,2),\n",
    "    names=node_columns\n",
    ").loc[df_name.index]"
   ]
  },
  {
   "cell_type": "code",
   "execution_count": 164,
   "metadata": {},
   "outputs": [],
   "source": [
    "def get_lineage(row):\n",
    "    parents = []\n",
    "    def get_parent(tax_id):\n",
    "        try:\n",
    "            parents.append(df_name.loc[df_node.loc[tax_id, \"parent tax_id\"], \"name_txt\"])\n",
    "            if df_node.loc[tax_id, \"parent tax_id\"] == tax_id:\n",
    "                return parents\n",
    "            return get_parent(df_node.loc[tax_id, \"parent tax_id\"])\n",
    "        except KeyError:\n",
    "            return parents\n",
    "    get_parent(row.name)\n",
    "    row[\"lineage\"] = \",\".join(parents[:-1])\n",
    "    return row"
   ]
  },
  {
   "cell_type": "code",
   "execution_count": 165,
   "metadata": {},
   "outputs": [
    {
     "name": "stderr",
     "output_type": "stream",
     "text": [
      "100%|██████████| 2468672/2468672 [1:20:54<00:00, 508.57it/s] \n"
     ]
    }
   ],
   "source": [
    "df_node_ =  df_node.progress_apply(lambda x:get_lineage(x), axis=1)\n",
    "df_node_.to_csv(f\"/Users/siomi19/Desktop/comprehensive_PrLD_prediction/nodes_lineage.txt\", sep=\"\\t\")"
   ]
  }
 ],
 "metadata": {
  "kernelspec": {
   "display_name": "Python 3.9.7 ('base')",
   "language": "python",
   "name": "python3"
  },
  "language_info": {
   "codemirror_mode": {
    "name": "ipython",
    "version": 3
   },
   "file_extension": ".py",
   "mimetype": "text/x-python",
   "name": "python",
   "nbconvert_exporter": "python",
   "pygments_lexer": "ipython3",
   "version": "3.9.7"
  },
  "orig_nbformat": 4,
  "vscode": {
   "interpreter": {
    "hash": "3c8f3b66fce7f3ff84ca19ca87e93a04e90d17618139d6c165f93d527107e1fd"
   }
  }
 },
 "nbformat": 4,
 "nbformat_minor": 2
}
