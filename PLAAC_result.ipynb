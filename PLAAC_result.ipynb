{
 "cells": [
  {
   "cell_type": "code",
   "execution_count": 1,
   "metadata": {},
   "outputs": [],
   "source": [
    "import numpy as np\n",
    "import pandas as pd\n",
    "import matplotlib.pyplot as plt\n",
    "from collections import Counter\n",
    "plt.rcParams[\"font.family\"] = 'Helvetica'\n",
    "plt.rcParams[\"svg.fonttype\"] = \"none\"\n",
    "plt.rcParams[\"font.size\"] = 15\n",
    "plt.rcParams[\"axes.linewidth\"] = 0.5\n",
    "import seaborn as sns"
   ]
  },
  {
   "cell_type": "code",
   "execution_count": 2,
   "metadata": {},
   "outputs": [
    {
     "name": "stderr",
     "output_type": "stream",
     "text": [
      "/Users/siomi19/opt/anaconda3/lib/python3.9/site-packages/numpy/lib/arraysetops.py:583: FutureWarning: elementwise comparison failed; returning scalar instead, but in the future will perform elementwise comparison\n",
      "  mask |= (ar1 == a)\n"
     ]
    }
   ],
   "source": [
    "df_node = pd.read_csv(\n",
    "    f\"/Users/siomi19/Desktop/comprehensive_PrLD_prediction/nodes_lineage.txt\", \n",
    "    sep=\"\\t\",\n",
    "    header=0,\n",
    "    index_col=0\n",
    "    )"
   ]
  },
  {
   "cell_type": "code",
   "execution_count": 20,
   "metadata": {},
   "outputs": [],
   "source": [
    "df_PLAAC = pd.read_csv(\n",
    "    \"/Users/siomi19/Desktop/comprehensive_PrLD_prediction/plaac_candidates.tsv\",\n",
    "    sep=\"\\t\",\n",
    "    header=0\n",
    "    )"
   ]
  },
  {
   "cell_type": "code",
   "execution_count": 21,
   "metadata": {},
   "outputs": [],
   "source": [
    "phylums = [\"Amoebozoa\", \"Discoba\", \"Ascomycota\", \"Basidiomycota\", \"Vertebrata\", \"Tunicata\", \"Echinodermata\", \"Nematoda\", \"Arthropoda\", \"Spiralia\", \"Cnidaria\", \"Porifera\", \"Alveolata\", \"Stramenopiles\", \"Chlorophyta\", \"Embryophyta\"]"
   ]
  },
  {
   "cell_type": "code",
   "execution_count": 29,
   "metadata": {},
   "outputs": [],
   "source": [
    "def set_lineage(row):\n",
    "    try:\n",
    "        taxonomies = df_node.loc[int(row[\"SEQid\"].split(\"OX=\")[1].split(\" \")[0]), \"lineage\"]\n",
    "        row[\"lineage\"] = \",\".join(taxonomies.split(\",\")[::-1])\n",
    "        return row\n",
    "    except KeyError:\n",
    "        row[\"lineage\"] = \"\"\n",
    "        return row\n",
    "\n",
    "def set_phylum(row):\n",
    "    try:\n",
    "        lineage = row[\"lineage\"].split(\",\")\n",
    "        row[\"phylum\"] = \"\".join(np.intersect1d(lineage, phylums))\n",
    "        return row\n",
    "    except ValueError:\n",
    "        row[\"phylum\"] = \"\"\n",
    "        return row\n",
    "    except AttributeError:\n",
    "        row[\"phylum\"] = \"\"\n",
    "        return row\n",
    "        \n",
    "def set_AGO_name(row):\n",
    "    row[\"AGO name\"] = row[\"SEQid\"].split(\"|\")[2].split(\"_\")[1].split(\"=\")[0][6:-3]\n",
    "    return row"
   ]
  },
  {
   "cell_type": "code",
   "execution_count": 30,
   "metadata": {},
   "outputs": [],
   "source": [
    "df_PLAAC_true = ( df_PLAAC[df_PLAAC[\"PRDscore\"]>0]\n",
    "    .apply(set_lineage, axis=1)\n",
    "    .apply(set_phylum, axis=1)\n",
    "    .apply(set_AGO_name, axis=1)\n",
    ")"
   ]
  },
  {
   "cell_type": "code",
   "execution_count": 34,
   "metadata": {},
   "outputs": [],
   "source": [
    "df_PLAAC = ( df_PLAAC\n",
    "    .apply(set_lineage, axis=1)\n",
    "    .apply(set_phylum, axis=1)\n",
    "    .apply(set_AGO_name, axis=1)\n",
    ")"
   ]
  },
  {
   "cell_type": "code",
   "execution_count": 24,
   "metadata": {},
   "outputs": [],
   "source": [
    "df_PLAAC_true.to_csv(\n",
    "    \"/Users/siomi19/Desktop/comprehensive_PrLD_prediction/plaac_candidates_taxonomy_AGO-name.tsv\",\n",
    "    sep=\"\\t\",\n",
    "    header=True,\n",
    "    index=False\n",
    ")"
   ]
  },
  {
   "cell_type": "code",
   "execution_count": 35,
   "metadata": {},
   "outputs": [],
   "source": [
    "df_PLAAC.to_csv(\n",
    "    \"/Users/siomi19/Desktop/comprehensive_PrLD_prediction/plaac_taxonomy_AGO-name.tsv\",\n",
    "    sep=\"\\t\",\n",
    "    header=True,\n",
    "    index=False\n",
    ")"
   ]
  },
  {
   "cell_type": "code",
   "execution_count": 3,
   "metadata": {},
   "outputs": [],
   "source": [
    "df_PLAAC_true = pd.read_csv(\n",
    "    \"/Users/siomi19/Desktop/comprehensive_PrLD_prediction/plaac_candidates_taxonomy_AGO-name.tsv\",\n",
    "    sep=\"\\t\",\n",
    "    header=0,\n",
    "    index_col=None\n",
    ")"
   ]
  },
  {
   "cell_type": "code",
   "execution_count": 4,
   "metadata": {},
   "outputs": [],
   "source": [
    "count = Counter(df_PLAAC_true[\"phylum\"])\n",
    "dict_count = dict(sorted(dict(count).items(), key=lambda x:x[1], reverse=True))"
   ]
  },
  {
   "cell_type": "code",
   "execution_count": 9,
   "metadata": {},
   "outputs": [
    {
     "data": {
      "text/plain": [
       "{'Embryophyta': 844,\n",
       " 'Arthropoda': 138,\n",
       " 'Ascomycota': 46,\n",
       " 'Nematoda': 44,\n",
       " 'Spiralia': 39,\n",
       " 'Stramenopiles': 38,\n",
       " 'Basidiomycota': 33,\n",
       " 'Cnidaria': 12,\n",
       " 'Chlorophyta': 11,\n",
       " 'Amoebozoa': 9,\n",
       " 'Vertebrata': 8,\n",
       " 'Echinodermata': 8,\n",
       " 'Alveolata': 5,\n",
       " '': 5,\n",
       " 'Tunicata': 2,\n",
       " 'Porifera': 2,\n",
       " 'Discoba': 2}"
      ]
     },
     "execution_count": 9,
     "metadata": {},
     "output_type": "execute_result"
    }
   ],
   "source": [
    "dict_count"
   ]
  },
  {
   "cell_type": "code",
   "execution_count": 5,
   "metadata": {},
   "outputs": [],
   "source": [
    "others = 0\n",
    "for i in dict_count.items():\n",
    "    if i[1] <20:\n",
    "        others = others + i[1]\n",
    "\n",
    "dict_count = {k:v for k,v in zip(dict_count.keys(), dict_count.values()) if v > 20}\n",
    "\n",
    "dict_count[\"ohters\"] = others"
   ]
  },
  {
   "cell_type": "code",
   "execution_count": 7,
   "metadata": {},
   "outputs": [
    {
     "data": {
      "image/png": "[encoded data removed]",
      "text/plain": [
       "<Figure size 432x288 with 1 Axes>"
      ]
     },
     "metadata": {},
     "output_type": "display_data"
    }
   ],
   "source": [
    "plt.rcParams[\"axes.prop_cycle\"] = plt.cycler(\"color\", plt.get_cmap(\"Set2\").colors)\n",
    "\n",
    "plt.pie(\n",
    "    dict_count.values(), \n",
    "    labels=dict_count.keys(),\n",
    "    autopct='%1.1f%%',\n",
    "    counterclock=False,\n",
    "    startangle=90,\n",
    "    labeldistance=1.4\n",
    "    )\n",
    "\n",
    "plt.savefig(\"/Users/siomi19/Desktop/comprehensive_PrLD_prediction/phylum.eps\")"
   ]
  },
  {
   "cell_type": "code",
   "execution_count": null,
   "metadata": {},
   "outputs": [],
   "source": []
  }
 ],
 "metadata": {
  "kernelspec": {
   "display_name": "Python 3.9.7 64-bit",
   "language": "python",
   "name": "python3"
  },
  "language_info": {
   "codemirror_mode": {
    "name": "ipython",
    "version": 3
   },
   "file_extension": ".py",
   "mimetype": "text/x-python",
   "name": "python",
   "nbconvert_exporter": "python",
   "pygments_lexer": "ipython3",
   "version": "3.9.7"
  },
  "orig_nbformat": 4,
  "vscode": {
   "interpreter": {
    "hash": "3c8f3b66fce7f3ff84ca19ca87e93a04e90d17618139d6c165f93d527107e1fd"
   }
  }
 },
 "nbformat": 4,
 "nbformat_minor": 2
}
