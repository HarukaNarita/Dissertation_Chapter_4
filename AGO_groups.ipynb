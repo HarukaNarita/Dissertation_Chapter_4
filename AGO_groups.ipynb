{
 "cells": [
  {
   "cell_type": "code",
   "execution_count": 1,
   "metadata": {},
   "outputs": [],
   "source": [
    "import numpy as np\n",
    "import pandas as pd\n",
    "import matplotlib.pyplot as plt\n",
    "from collections import Counter\n",
    "plt.rcParams[\"font.family\"] = 'Helvetica'\n",
    "plt.rcParams[\"svg.fonttype\"] = \"none\"\n",
    "plt.rcParams[\"font.size\"] = 15\n",
    "plt.rcParams[\"axes.linewidth\"] = 0.5\n",
    "import seaborn as sns"
   ]
  },
  {
   "cell_type": "code",
   "execution_count": 2,
   "metadata": {},
   "outputs": [
    {
     "name": "stderr",
     "output_type": "stream",
     "text": [
      "/Users/siomi19/opt/anaconda3/lib/python3.9/site-packages/numpy/lib/arraysetops.py:583: FutureWarning: elementwise comparison failed; returning scalar instead, but in the future will perform elementwise comparison\n",
      "  mask |= (ar1 == a)\n"
     ]
    }
   ],
   "source": [
    "df_node = pd.read_csv(\n",
    "    f\"/Users/siomi19/Desktop/comprehensive_PrLD_prediction/nodes_lineage.txt\", \n",
    "    sep=\"\\t\",\n",
    "    header=0,\n",
    "    index_col=0\n",
    "    )"
   ]
  },
  {
   "cell_type": "code",
   "execution_count": 3,
   "metadata": {},
   "outputs": [],
   "source": [
    "df_PLAAC_true =pd.read_csv(\n",
    "    \"/Users/siomi19/Desktop/comprehensive_PrLD_prediction/plaac_candidates_taxonomy_AGO-name_AGO-group.tsv\",\n",
    "    sep=\"\\t\",\n",
    "    header=0,\n",
    "    index_col=None\n",
    ")"
   ]
  },
  {
   "cell_type": "code",
   "execution_count": 4,
   "metadata": {},
   "outputs": [],
   "source": [
    "df_PLAAC =pd.read_csv(\n",
    "    \"/Users/siomi19/Desktop/comprehensive_PrLD_prediction/plaac_taxonomy_AGO-name_AGO-group.tsv\",\n",
    "    sep=\"\\t\",\n",
    "    header=0,\n",
    "    index_col=None\n",
    ")"
   ]
  },
  {
   "cell_type": "code",
   "execution_count": 5,
   "metadata": {},
   "outputs": [],
   "source": [
    "df_PLAAC_true_plant = df_PLAAC_true[df_PLAAC_true[\"phylum\"]==\"Embryophyta\"]\n",
    "count_true_AGO_groups_plant = df_PLAAC_true_plant[\"AGO group\"].value_counts()\n",
    "\n",
    "df_PLAAC_true_arthropod = df_PLAAC_true[df_PLAAC_true[\"phylum\"]==\"Arthropoda\"]\n",
    "count_true_AGO_groups_arthropod = df_PLAAC_true_arthropod['AGO group'].value_counts()\n",
    "\n",
    "df_PLAAC_true_vertebrate = df_PLAAC_true[df_PLAAC_true[\"phylum\"]==\"Vertebrata\"]\n",
    "count_true_AGO_groups_vertebrate = df_PLAAC_true_vertebrate['AGO group'].value_counts()"
   ]
  },
  {
   "cell_type": "code",
   "execution_count": 6,
   "metadata": {},
   "outputs": [],
   "source": [
    "df_PLAAC_plant = df_PLAAC[df_PLAAC[\"phylum\"]==\"Embryophyta\"]\n",
    "count_AGO_groups_plant = df_PLAAC_plant[\"AGO group\"].value_counts()\n",
    "\n",
    "df_PLAAC_arthropod = df_PLAAC[df_PLAAC[\"phylum\"]==\"Arthropoda\"]\n",
    "count_AGO_groups_arthropod = df_PLAAC_arthropod[\"AGO group\"].value_counts()\n",
    "\n",
    "df_PLAAC_vertebrate = df_PLAAC[df_PLAAC[\"phylum\"]==\"Vertebrata\"]\n",
    "count_AGO_groups_vertebrate = df_PLAAC_vertebrate['AGO group'].value_counts()"
   ]
  },
  {
   "cell_type": "code",
   "execution_count": 7,
   "metadata": {},
   "outputs": [],
   "source": [
    "df_arthropod = pd.concat([count_true_AGO_groups_arthropod, count_AGO_groups_arthropod], axis=1).fillna(0)\n",
    "df_arthropod.columns = [\"Candidate\", \"All\"]\n",
    "df_arthropod[\"ratio\"] = 100 * df_arthropod[\"Candidate\"] / df_arthropod[\"All\"]\n",
    "df_arthropod_plot = df_arthropod.loc[[\"AGO1\", \"AGO2\", \"AGO3\", \"AGO4\", \"PIWI\", \"AUB\"]]"
   ]
  },
  {
   "cell_type": "code",
   "execution_count": 8,
   "metadata": {},
   "outputs": [],
   "source": [
    "df_plant = pd.concat([count_true_AGO_groups_plant, count_AGO_groups_plant], axis=1).fillna(0)\n",
    "df_plant.columns = [\"Candidate\", \"All\"]\n",
    "df_plant[\"ratio\"] = 100 * df_plant[\"Candidate\"] / df_plant[\"All\"]\n",
    "df_plant_plot = df_plant.loc[[\"AGO1\", \"AGO2\", \"AGO3\", \"AGO4\", \"AGO5\", \"AGO6\", \"AGO7\",\"AGO8\", \"AGO9\", \"AGO10\", \"AGO11\", \"AGO12\", \"AGO13\", \"AGO14\", \"AGO15\", \"AGO16\", \"AGO17\", \"AGO18\", \"MEL\"]]"
   ]
  },
  {
   "cell_type": "code",
   "execution_count": 9,
   "metadata": {},
   "outputs": [],
   "source": [
    "df_vertebrate = pd.concat([count_true_AGO_groups_vertebrate, count_AGO_groups_vertebrate], axis=1).fillna(0)\n",
    "df_vertebrate.columns = [\"Candidate\", \"All\"]\n",
    "df_vertebrate[\"ratio\"] = 100 * df_vertebrate[\"Candidate\"] / df_vertebrate[\"All\"]\n",
    "df_vertebrate_plot = df_vertebrate.loc[[\"AGO1\", \"AGO2\", \"AGO3\", \"AGO4\", \"PIWI\"]]"
   ]
  },
  {
   "cell_type": "code",
   "execution_count": 24,
   "metadata": {},
   "outputs": [
    {
     "data": {
      "text/html": [
       "<div>\n",
       "<style scoped>\n",
       "    .dataframe tbody tr th:only-of-type {\n",
       "        vertical-align: middle;\n",
       "    }\n",
       "\n",
       "    .dataframe tbody tr th {\n",
       "        vertical-align: top;\n",
       "    }\n",
       "\n",
       "    .dataframe thead th {\n",
       "        text-align: right;\n",
       "    }\n",
       "</style>\n",
       "<table border=\"1\" class=\"dataframe\">\n",
       "  <thead>\n",
       "    <tr style=\"text-align: right;\">\n",
       "      <th></th>\n",
       "      <th>Candidate</th>\n",
       "      <th>All</th>\n",
       "      <th>ratio</th>\n",
       "    </tr>\n",
       "  </thead>\n",
       "  <tbody>\n",
       "    <tr>\n",
       "      <th>AGO2</th>\n",
       "      <td>56.0</td>\n",
       "      <td>325</td>\n",
       "      <td>17.230769</td>\n",
       "    </tr>\n",
       "    <tr>\n",
       "      <th>PIWI</th>\n",
       "      <td>42.0</td>\n",
       "      <td>401</td>\n",
       "      <td>10.473815</td>\n",
       "    </tr>\n",
       "    <tr>\n",
       "      <th>uncharacterized</th>\n",
       "      <td>14.0</td>\n",
       "      <td>179</td>\n",
       "      <td>7.821229</td>\n",
       "    </tr>\n",
       "    <tr>\n",
       "      <th>AGO</th>\n",
       "      <td>13.0</td>\n",
       "      <td>99</td>\n",
       "      <td>13.131313</td>\n",
       "    </tr>\n",
       "    <tr>\n",
       "      <th>AUB</th>\n",
       "      <td>11.0</td>\n",
       "      <td>133</td>\n",
       "      <td>8.270677</td>\n",
       "    </tr>\n",
       "    <tr>\n",
       "      <th>AGO1</th>\n",
       "      <td>2.0</td>\n",
       "      <td>48</td>\n",
       "      <td>4.166667</td>\n",
       "    </tr>\n",
       "    <tr>\n",
       "      <th>AGO3</th>\n",
       "      <td>0.0</td>\n",
       "      <td>70</td>\n",
       "      <td>0.000000</td>\n",
       "    </tr>\n",
       "    <tr>\n",
       "      <th>AGO4</th>\n",
       "      <td>0.0</td>\n",
       "      <td>9</td>\n",
       "      <td>0.000000</td>\n",
       "    </tr>\n",
       "    <tr>\n",
       "      <th>AGO7</th>\n",
       "      <td>0.0</td>\n",
       "      <td>2</td>\n",
       "      <td>0.000000</td>\n",
       "    </tr>\n",
       "    <tr>\n",
       "      <th>AGO8</th>\n",
       "      <td>0.0</td>\n",
       "      <td>1</td>\n",
       "      <td>0.000000</td>\n",
       "    </tr>\n",
       "    <tr>\n",
       "      <th>AGO5</th>\n",
       "      <td>0.0</td>\n",
       "      <td>1</td>\n",
       "      <td>0.000000</td>\n",
       "    </tr>\n",
       "    <tr>\n",
       "      <th>AGO6</th>\n",
       "      <td>0.0</td>\n",
       "      <td>1</td>\n",
       "      <td>0.000000</td>\n",
       "    </tr>\n",
       "  </tbody>\n",
       "</table>\n",
       "</div>"
      ],
      "text/plain": [
       "                 Candidate  All      ratio\n",
       "AGO2                  56.0  325  17.230769\n",
       "PIWI                  42.0  401  10.473815\n",
       "uncharacterized       14.0  179   7.821229\n",
       "AGO                   13.0   99  13.131313\n",
       "AUB                   11.0  133   8.270677\n",
       "AGO1                   2.0   48   4.166667\n",
       "AGO3                   0.0   70   0.000000\n",
       "AGO4                   0.0    9   0.000000\n",
       "AGO7                   0.0    2   0.000000\n",
       "AGO8                   0.0    1   0.000000\n",
       "AGO5                   0.0    1   0.000000\n",
       "AGO6                   0.0    1   0.000000"
      ]
     },
     "execution_count": 24,
     "metadata": {},
     "output_type": "execute_result"
    }
   ],
   "source": [
    "df_arthropod"
   ]
  },
  {
   "cell_type": "code",
   "execution_count": 10,
   "metadata": {},
   "outputs": [],
   "source": [
    "cmap = plt.get_cmap(\"Set2\")"
   ]
  },
  {
   "cell_type": "code",
   "execution_count": 18,
   "metadata": {},
   "outputs": [
    {
     "data": {
      "image/png": "[encoded data removed]",
      "text/plain": [
       "<Figure size 432x288 with 1 Axes>"
      ]
     },
     "metadata": {
      "needs_background": "light"
     },
     "output_type": "display_data"
    }
   ],
   "source": [
    "plt.bar(\n",
    "    np.arange(df_plant_plot.shape[0]), \n",
    "    df_plant_plot[\"ratio\"].values,\n",
    "    tick_label = df_plant_plot.index,\n",
    "    color = cmap(0)\n",
    "    )\n",
    "\n",
    "plt.xticks(rotation=90)\n",
    "plt.title(\"percentage of number of PrLD candidates \\n in the number of sequences entries in Uniprot\")\n",
    "plt.ylabel(\"Percentage\")\n",
    "plt.xlabel(\"Argonaute family protein\")\n",
    "plt.savefig(\"/Users/siomi19/Desktop/comprehensive_PrLD_prediction/plant_candidates_ratio.svg\", bbox_inches=\"tight\")"
   ]
  },
  {
   "cell_type": "code",
   "execution_count": 19,
   "metadata": {},
   "outputs": [
    {
     "data": {
      "image/png": "[encoded data removed]",
      "text/plain": [
       "<Figure size 432x288 with 1 Axes>"
      ]
     },
     "metadata": {
      "needs_background": "light"
     },
     "output_type": "display_data"
    }
   ],
   "source": [
    "plt.bar(\n",
    "    np.arange(df_arthropod_plot.shape[0]), \n",
    "    df_arthropod_plot[\"ratio\"].values,\n",
    "    tick_label = df_arthropod_plot.index,\n",
    "    color = cmap(1)\n",
    "    )\n",
    "\n",
    "plt.xticks(rotation=90)\n",
    "plt.title(\"percentage of number of PrLD candidates \\n in the number of sequences entries in Uniprot\")\n",
    "plt.ylabel(\"Percentage\")\n",
    "plt.xlabel(\"Argonaute family protein\")\n",
    "plt.savefig(\"/Users/siomi19/Desktop/comprehensive_PrLD_prediction/arthropod_candidates_ratio.svg\", bbox_inches=\"tight\")"
   ]
  },
  {
   "cell_type": "code",
   "execution_count": 20,
   "metadata": {},
   "outputs": [
    {
     "data": {
      "image/png": "[encoded data removed]",
      "text/plain": [
       "<Figure size 432x288 with 1 Axes>"
      ]
     },
     "metadata": {
      "needs_background": "light"
     },
     "output_type": "display_data"
    }
   ],
   "source": [
    "plt.bar(\n",
    "    np.arange(df_vertebrate_plot.shape[0]), \n",
    "    df_vertebrate_plot[\"ratio\"].values,\n",
    "    tick_label = df_vertebrate_plot.index,\n",
    "    color = \"royalblue\"\n",
    "    )\n",
    "\n",
    "plt.xticks(rotation=90)\n",
    "plt.title(\"percentage of number of PrLD candidates \\n in the number of sequences entries in Uniprot\")\n",
    "plt.ylabel(\"Percentage\")\n",
    "plt.xlabel(\"Argonaute family protein\")\n",
    "plt.savefig(\"/Users/siomi19/Desktop/comprehensive_PrLD_prediction/vertebrate_candidates_ratio.svg\", bbox_inches=\"tight\")"
   ]
  },
  {
   "cell_type": "code",
   "execution_count": null,
   "metadata": {},
   "outputs": [],
   "source": []
  },
  {
   "cell_type": "code",
   "execution_count": null,
   "metadata": {},
   "outputs": [],
   "source": []
  }
 ],
 "metadata": {
  "kernelspec": {
   "display_name": "Python 3.9.7 ('base')",
   "language": "python",
   "name": "python3"
  },
  "language_info": {
   "codemirror_mode": {
    "name": "ipython",
    "version": 3
   },
   "file_extension": ".py",
   "mimetype": "text/x-python",
   "name": "python",
   "nbconvert_exporter": "python",
   "pygments_lexer": "ipython3",
   "version": "3.9.7"
  },
  "orig_nbformat": 4,
  "vscode": {
   "interpreter": {
    "hash": "3c8f3b66fce7f3ff84ca19ca87e93a04e90d17618139d6c165f93d527107e1fd"
   }
  }
 },
 "nbformat": 4,
 "nbformat_minor": 2
}
